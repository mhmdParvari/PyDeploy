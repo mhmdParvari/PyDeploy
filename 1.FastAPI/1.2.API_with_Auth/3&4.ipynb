{
 "cells": [
  {
   "cell_type": "code",
   "execution_count": 1,
   "metadata": {},
   "outputs": [],
   "source": [
    "import requests"
   ]
  },
  {
   "cell_type": "markdown",
   "metadata": {},
   "source": [
    "# 3.Requests specifications"
   ]
  },
  {
   "cell_type": "code",
   "execution_count": 7,
   "metadata": {},
   "outputs": [
    {
     "name": "stdout",
     "output_type": "stream",
     "text": [
      "2.28.0\n",
      "Apache 2.0\n",
      "Copyright 2022 Kenneth Reitz\n",
      "Kenneth Reitz\n",
      "me@kennethreitz.org\n",
      "https://requests.readthedocs.io\n",
      "requests\n",
      "Python HTTP for Humans.\n"
     ]
    }
   ],
   "source": [
    "print(requests.__version__)\n",
    "print(requests.__license__)\n",
    "print(requests.__copyright__)\n",
    "print(requests.__author__)\n",
    "print(requests.__author_email__)\n",
    "print(requests.__url__)\n",
    "print(requests.__title__)\n",
    "print(requests.__description__)\n"
   ]
  },
  {
   "cell_type": "markdown",
   "metadata": {},
   "source": [
    "# 4.GitHub API"
   ]
  },
  {
   "cell_type": "code",
   "execution_count": 8,
   "metadata": {},
   "outputs": [],
   "source": [
    "response = requests.get('https://api.github.com/users/mhmdparvari')"
   ]
  },
  {
   "cell_type": "code",
   "execution_count": 9,
   "metadata": {},
   "outputs": [
    {
     "name": "stdout",
     "output_type": "stream",
     "text": [
      "followers:  2\n",
      "following:  0\n"
     ]
    }
   ],
   "source": [
    "print('followers: ', response.json()['followers'])\n",
    "print('following: ', response.json()['following'])"
   ]
  }
 ],
 "metadata": {
  "kernelspec": {
   "display_name": "Python 3.8.10 64-bit",
   "language": "python",
   "name": "python3"
  },
  "language_info": {
   "codemirror_mode": {
    "name": "ipython",
    "version": 3
   },
   "file_extension": ".py",
   "mimetype": "text/x-python",
   "name": "python",
   "nbconvert_exporter": "python",
   "pygments_lexer": "ipython3",
   "version": "3.8.10"
  },
  "orig_nbformat": 4,
  "vscode": {
   "interpreter": {
    "hash": "1f3d1e7a3e98b594294b83c674fd3d34daeb29435af55f0413bb4a6389b573f9"
   }
  }
 },
 "nbformat": 4,
 "nbformat_minor": 2
}
